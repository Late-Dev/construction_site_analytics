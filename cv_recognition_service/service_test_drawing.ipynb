{
 "cells": [
  {
   "cell_type": "code",
   "execution_count": 1,
   "id": "ebafbba3",
   "metadata": {},
   "outputs": [],
   "source": [
    "%load_ext autoreload\n",
    "%autoreload 2"
   ]
  },
  {
   "cell_type": "code",
   "execution_count": 2,
   "id": "954e519e",
   "metadata": {},
   "outputs": [],
   "source": [
    "import numpy as np\n",
    "import cv2\n",
    "import matplotlib.pyplot as plt\n",
    "from tqdm import trange\n",
    "\n",
    "%matplotlib inline\n",
    "from matplotlib import pyplot as plt\n",
    "\n",
    "def plot(src, cmap=None, title=None, size=(10, 10)):\n",
    "    plt.rcParams['figure.figsize'] = size\n",
    "    plt.imshow(src, cmap)\n",
    "    plt.title(title)"
   ]
  },
  {
   "cell_type": "code",
   "execution_count": 3,
   "id": "38de44a9",
   "metadata": {},
   "outputs": [],
   "source": [
    "from infrastructure.interface import DetectionData, ClassificationData\n",
    "from service.interface import FrameData\n",
    "from service.recognition import RecognitionService\n",
    "from service.drawing import DrawingService\n",
    "\n",
    "from infrastructure.detection import YOLODetector"
   ]
  },
  {
   "attachments": {},
   "cell_type": "markdown",
   "id": "4c884b1b",
   "metadata": {},
   "source": [
    "### Init models"
   ]
  },
  {
   "cell_type": "code",
   "execution_count": 4,
   "id": "3f437d29",
   "metadata": {},
   "outputs": [],
   "source": [
    "detector = YOLODetector(\n",
    "    model_path='../detector_inference/weights/detector.pt', conf_thresh=0.6, device=\"cuda:0\"\n",
    ")\n",
    "rec_service = RecognitionService(detector, None)\n",
    "draw_service = DrawingService()"
   ]
  },
  {
   "cell_type": "code",
   "execution_count": 5,
   "id": "ba570799",
   "metadata": {},
   "outputs": [],
   "source": [
    "import os\n",
    "video_path = '../cv_training/detector_training/datasets/construction_analytics/videos/output118.mp4'\n",
    "frame_data_list = rec_service.process_video(video_path)"
   ]
  },
  {
   "cell_type": "code",
   "execution_count": 6,
   "id": "2881b92f",
   "metadata": {},
   "outputs": [
    {
     "name": "stderr",
     "output_type": "stream",
     "text": [
      "  0%|          | 0/359 [00:00<?, ?it/s]"
     ]
    },
    {
     "name": "stderr",
     "output_type": "stream",
     "text": [
      "100%|██████████| 359/359 [00:10<00:00, 35.32it/s]\n"
     ]
    }
   ],
   "source": [
    "draw_service.process_video(video_path, frame_data_list)"
   ]
  }
 ],
 "metadata": {
  "kernelspec": {
   "display_name": "Python 3 (ipykernel)",
   "language": "python",
   "name": "python3"
  },
  "language_info": {
   "codemirror_mode": {
    "name": "ipython",
    "version": 3
   },
   "file_extension": ".py",
   "mimetype": "text/x-python",
   "name": "python",
   "nbconvert_exporter": "python",
   "pygments_lexer": "ipython3",
   "version": "3.10.11"
  },
  "vscode": {
   "interpreter": {
    "hash": "8c05028e921611b6394104ad9498b45ca17ae4d4728ba21cce73a6c3d2f2d37a"
   }
  }
 },
 "nbformat": 4,
 "nbformat_minor": 5
}
